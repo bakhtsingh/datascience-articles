{
 "cells": [
  {
   "cell_type": "markdown",
   "id": "9fe27b07",
   "metadata": {},
   "source": [
    "### Visualizing Credit Score Distribution\n",
    "\n",
    "The distribution of credit scores often follows a normal distribution, which can be visualized using a histogram. This visualization helps in understanding the general spread of credit scores among individuals, centered around a mean with variations expressed in terms of standard deviations.\n",
    "\n",
    "- **Mean (μ)**: The average credit score around which the distribution centers.\n",
    "- **Standard Deviation (σ)**: A measure of the spread of the scores around the mean. One standard deviation encompasses about 68% of all scores in a normal distribution, two standard deviations encompass about 95%, and three standard deviations encompass about 99.7%.\n",
    "\n",
    "Below is a plot showing the distribution of credit scores, with lines indicating the mean and the standard deviations:\n"
   ]
  },
  {
   "cell_type": "code",
   "execution_count": 1,
   "id": "57c26963",
   "metadata": {},
   "outputs": [
    {
     "data": {
      "image/png": "[encoded data removed]",
      "text/plain": [
       "<Figure size 720x432 with 1 Axes>"
      ]
     },
     "metadata": {
      "needs_background": "light"
     },
     "output_type": "display_data"
    }
   ],
   "source": [
    "import numpy as np\n",
    "import matplotlib.pyplot as plt\n",
    "from scipy.stats import norm\n",
    "\n",
    "# Typical parameters for a credit score distribution\n",
    "mean = 650\n",
    "std_dev = 50\n",
    "\n",
    "# Generate a sample of 1000 credit scores\n",
    "np.random.seed(0)\n",
    "credit_scores = np.random.normal(mean, std_dev, 1000)\n",
    "\n",
    "# Plot the distribution of credit scores\n",
    "plt.figure(figsize=(10, 6))\n",
    "plt.hist(credit_scores, bins=30, alpha=0.7, color='blue', edgecolor='black')\n",
    "plt.axvline(mean, color='red', linestyle='dashed', linewidth=1)\n",
    "plt.axvline(mean + std_dev, color='green', linestyle='dashed', linewidth=1)\n",
    "plt.axvline(mean - std_dev, color='green', linestyle='dashed', linewidth=1)\n",
    "plt.title('Distribution of Credit Scores')\n",
    "plt.xlabel('Credit Score')\n",
    "plt.ylabel('Frequency')\n",
    "plt.show()"
   ]
  },
  {
   "cell_type": "markdown",
   "id": "523d14f5",
   "metadata": {},
   "source": [
    "### Calculating Probability of Higher Credit Scores\n",
    "\n",
    "To determine the quality of credit scores, banks often calculate the probability of scores exceeding a certain threshold. This probability assists in decision-making processes, such as approving credit applications or assigning interest rates.\n",
    "\n",
    "In this case, we calculate the probability of a credit score being greater than 700. This threshold often differentiates 'good' credit from 'excellent' credit, which is crucial for financial products like low-interest loans or premium credit cards."
   ]
  },
  {
   "cell_type": "code",
   "execution_count": 2,
   "id": "cadd898e",
   "metadata": {},
   "outputs": [
    {
     "name": "stdout",
     "output_type": "stream",
     "text": [
      "Probability of a credit score > 700: 15.87%\n"
     ]
    }
   ],
   "source": [
    "# Probability of a score greater than 700\n",
    "prob_above_700 = 1 - norm.cdf(700, mean, std_dev)\n",
    "print(f\"Probability of a credit score > 700: {prob_above_700:.2%}\")"
   ]
  },
  {
   "cell_type": "markdown",
   "id": "43fed80d",
   "metadata": {},
   "source": [
    "### Identifying Outliers in Credit Scores\n",
    "\n",
    "Outliers in credit scores are scores that are significantly higher or lower than the typical range. Identifying these outliers is crucial for detecting potential errors in data collection or fraudulent activity.\n",
    "\n",
    "Outliers are usually defined as scores that lie more than three standard deviations from the mean. These are the scores that are extremely rare and could indicate underlying issues that need further investigation."
   ]
  },
  {
   "cell_type": "code",
   "execution_count": 3,
   "id": "52942c38",
   "metadata": {},
   "outputs": [
    {
     "name": "stdout",
     "output_type": "stream",
     "text": [
      "Credit score outliers are below 500 or above 800.\n"
     ]
    }
   ],
   "source": [
    "# Outlier thresholds\n",
    "lower_bound = mean - 3*std_dev\n",
    "upper_bound = mean + 3*std_dev\n",
    "\n",
    "print(f\"Credit score outliers are below {lower_bound} or above {upper_bound}.\")"
   ]
  },
  {
   "cell_type": "markdown",
   "id": "ccd2dbca",
   "metadata": {},
   "source": [
    "### Categorizing Credit Scores by Risk\n",
    "\n",
    "Banks and financial institutions categorize credit scores into different risk categories to streamline the decision-making process. These categories help in assessing the level of risk associated with loaning money to an individual.\n",
    "\n",
    "- **Low Risk**: Scores significantly higher than the mean, indicating a good history of creditworthiness.\n",
    "- **High Risk**: Scores significantly lower than the mean, indicating a poor credit history and a higher chance of defaulting on loans.\n",
    "\n",
    "Below, we define what scores fall into 'low risk' and 'high risk' categories based on their deviation from the mean:\n"
   ]
  },
  {
   "cell_type": "code",
   "execution_count": 4,
   "id": "a9405532",
   "metadata": {},
   "outputs": [
    {
     "name": "stdout",
     "output_type": "stream",
     "text": [
      "Low risk credit scores are above 700.\n",
      "High risk credit scores are below 550.\n"
     ]
    }
   ],
   "source": [
    "# Risk categories based on standard deviations\n",
    "low_risk_upper = mean + std_dev\n",
    "high_risk_lower = mean - 2*std_dev\n",
    "\n",
    "print(f\"Low risk credit scores are above {low_risk_upper}.\")\n",
    "print(f\"High risk credit scores are below {high_risk_lower}.\")"
   ]
  },
  {
   "cell_type": "markdown",
   "id": "fc92993d",
   "metadata": {},
   "source": [
    "## Other Similar Practical Use Cases of Normal Distribution in Data Science"
   ]
  },
  {
   "cell_type": "markdown",
   "id": "702e2f90",
   "metadata": {},
   "source": [
    "1. Quality Control in Manufacturing\n",
    "Overview:\n",
    "In manufacturing, the dimensions, concentrations, or resistances of products can vary due to imperfections in production processes. These variations usually follow a normal distribution, making it a fundamental tool for quality control.\n",
    "\n",
    "Use Case Description:\n",
    "A factory produces resistors labeled as 100 ohms, but due to unavoidable variations, the actual resistances of these resistors are normally distributed around a mean of 100 ohms with a standard deviation of 5 ohms.\n",
    "\n",
    "Goal:\n",
    "Calculate the probability that a randomly selected resistor has a resistance between 95 and 105 ohms to ensure it meets the specified quality standards."
   ]
  },
  {
   "cell_type": "code",
   "execution_count": 5,
   "id": "2f6c76fc",
   "metadata": {},
   "outputs": [
    {
     "name": "stdout",
     "output_type": "stream",
     "text": [
      "Probability that a resistor is between 95 and 105 ohms: 0.6827\n"
     ]
    }
   ],
   "source": [
    "import scipy.stats as stats\n",
    "\n",
    "# Define the mean and standard deviation\n",
    "mu = 100  # mean\n",
    "sigma = 5  # standard deviation\n",
    "\n",
    "# Calculate the probability of resistance between 95 and 105\n",
    "p_95_105 = stats.norm(mu, sigma).cdf(105) - stats.norm(mu, sigma).cdf(95)\n",
    "print(f\"Probability that a resistor is between 95 and 105 ohms: {p_95_105:.4f}\")"
   ]
  },
  {
   "cell_type": "markdown",
   "id": "c8484d12",
   "metadata": {},
   "source": [
    "### Algorithm Performance and Benchmarking\n",
    "**Overview:**\n",
    "Performance metrics of algorithms, especially in high-frequency trading and software operations, generally exhibit normal variability due to differing system loads and input sizes.\n",
    "\n",
    "**Use Case Description:**\n",
    "Suppose an algorithm’s execution time is normally distributed with a mean of 200 milliseconds and a standard deviation of 10 milliseconds, reflecting the common variances in processing times under normal operations.\n",
    "\n",
    "**Goal:**\n",
    "Determine the probability that the execution time is less than 220 milliseconds to assess algorithm efficiency under typical operating conditions."
   ]
  },
  {
   "cell_type": "code",
   "execution_count": 6,
   "id": "cbfed84a",
   "metadata": {},
   "outputs": [
    {
     "name": "stdout",
     "output_type": "stream",
     "text": [
      "Probability that execution time is less than 220 ms: 0.9772\n"
     ]
    }
   ],
   "source": [
    "import scipy.stats as stats\n",
    "\n",
    "# Define the mean and standard deviation\n",
    "mu = 200  # mean in milliseconds\n",
    "sigma = 10  # standard deviation in milliseconds\n",
    "\n",
    "# Calculate the probability that execution time is less than 220 milliseconds\n",
    "p_less_than_220 = stats.norm(mu, sigma).cdf(220)\n",
    "print(f\"Probability that execution time is less than 220 ms: {p_less_than_220:.4f}\")"
   ]
  },
  {
   "cell_type": "markdown",
   "id": "27cc9847",
   "metadata": {},
   "source": [
    "### Anomaly Detection in Network Traffic\n",
    "**Overview:**\n",
    "Normal distributions are pivotal in network management for anomaly detection, where they help in identifying data points that significantly deviate from established norms, possibly indicating cyber threats or system failures.\n",
    "\n",
    "**Use Case Description:**\n",
    "Network traffic to a server, in terms of requests per minute, is normally distributed with a mean of 300 requests and a standard deviation of 50 requests.\n",
    "\n",
    "**Goal:**\n",
    "Evaluate whether 400 requests in a minute is an outlier, suggesting a potential issue such as a DDoS attack or a fault in network configuration."
   ]
  },
  {
   "cell_type": "code",
   "execution_count": 7,
   "id": "6f5dd352",
   "metadata": {},
   "outputs": [
    {
     "name": "stdout",
     "output_type": "stream",
     "text": [
      "Z-score for 400 requests/minute: 2.00\n",
      "Probability of 400 or more requests/minute: 0.0228\n",
      "Is 400 requests/minute an outlier? No\n"
     ]
    }
   ],
   "source": [
    "import scipy.stats as stats\n",
    "\n",
    "# Define the mean and standard deviation\n",
    "mu = 300  # mean requests per minute\n",
    "sigma = 50  # standard deviation\n",
    "\n",
    "# Determine the Z-score for 400 requests/minute\n",
    "z_score = (400 - mu) / sigma\n",
    "print(f\"Z-score for 400 requests/minute: {z_score:.2f}\")\n",
    "\n",
    "# Calculate the probability of 400 or more requests/minute (upper tail)\n",
    "p_400_plus = 1 - stats.norm(mu, sigma).cdf(400)\n",
    "print(f\"Probability of 400 or more requests/minute: {p_400_plus:.4f}\")\n",
    "\n",
    "# Check if it is an outlier (commonly if Z-score is greater than 2 or less than -2)\n",
    "is_outlier = abs(z_score) > 2\n",
    "print(f\"Is 400 requests/minute an outlier? {'Yes' if is_outlier else 'No'}\")"
   ]
  },
  {
   "cell_type": "code",
   "execution_count": null,
   "id": "2aa55cbf",
   "metadata": {},
   "outputs": [],
   "source": []
  }
 ],
 "metadata": {
  "kernelspec": {
   "display_name": "Python 3 (ipykernel)",
   "language": "python",
   "name": "python3"
  },
  "language_info": {
   "codemirror_mode": {
    "name": "ipython",
    "version": 3
   },
   "file_extension": ".py",
   "mimetype": "text/x-python",
   "name": "python",
   "nbconvert_exporter": "python",
   "pygments_lexer": "ipython3",
   "version": "3.10.4"
  }
 },
 "nbformat": 4,
 "nbformat_minor": 5
}
